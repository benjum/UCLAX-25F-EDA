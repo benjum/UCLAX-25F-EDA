{
 "cells": [
  {
   "cell_type": "markdown",
   "id": "b5f0c4db",
   "metadata": {},
   "source": [
    "# Assignment:  Markdown & Jupyter"
   ]
  },
  {
   "cell_type": "markdown",
   "id": "c26ac0a1",
   "metadata": {},
   "source": [
    "The aim of this assignment is to give you practice working with this Jupyter environment and writing Markdown.  \n",
    "\n",
    "This exercise is also intended to start you thinking about what you might like to work on for a project.  (I will not hold you to any project ideas written here; you are welcome to change your mind later.)\n",
    "\n",
    "## Notes\n",
    "\n",
    "* There are many guides out there on how to use markdown syntax.  The following is one example you may find useful:\n",
    "  * [Markdown Cheatsheet](https://github.com/adam-p/markdown-here/wiki/Markdown-Cheatsheet)\n",
    "* In this assignment notebook, you should only edit the cells that say ``(double-click here to edit)``\n",
    "* After writing your responses in markdown, execute the cells so that your markdown text gets rendered."
   ]
  },
  {
   "cell_type": "markdown",
   "id": "804da742",
   "metadata": {},
   "source": [
    "<div class=\"alert alert-info\">\n",
    "\n",
    "<b>Initial step:</b>\n",
    "\n",
    "Open the cell below in edit mode (by double-clicking on it), look at how it is written, and then run it.  Make sure you understand how the text is marked up to get the header style, italics, bold, and a bulleted list.\n",
    "    \n",
    "</div>"
   ]
  },
  {
   "cell_type": "markdown",
   "id": "077299bc",
   "metadata": {},
   "source": [
    "(double-click here to view)\n",
    "\n",
    "# First example\n",
    "\n",
    "This is one example of a *cell* that is written using **markdown** syntax.\n",
    "\n",
    "It uses:\n",
    "* '#' for a header\n",
    "* '*' at the beginning of lines for bulleted lists\n",
    "* '*' around text for italics\n",
    "* '**' around text for bold"
   ]
  },
  {
   "cell_type": "markdown",
   "id": "e3167151",
   "metadata": {},
   "source": [
    "<div class=\"alert alert-info\">\n",
    "\n",
    "<b>Personal Profile:</b>\n",
    "\n",
    "Use markdown in the cell below to write a personal profile.  \n",
    "    \n",
    "This should include:\n",
    "1. your name, styled as an H1 header (see for example the above cheatsheet)\n",
    "2. one of your favorite hobbies in bold font\n",
    "3. your favorite field of study in italics\n",
    "4. a description of why you are interested in the course, in normal font.\n",
    "\n",
    "</div>"
   ]
  },
  {
   "cell_type": "markdown",
   "id": "a5c86291",
   "metadata": {},
   "source": [
    "(double-click here to edit)\n",
    "\n",
    "\n"
   ]
  },
  {
   "cell_type": "markdown",
   "id": "8765db37",
   "metadata": {},
   "source": [
    "<div class=\"alert alert-info\">\n",
    "\n",
    "**Data and viz of interest**\n",
    "\n",
    "1. Find a journal or newspaper article about data science, machine learning, or AI that interests you.\n",
    "  * Add a hypertext link to the article in the next cell and comment on why it interests you.\n",
    "2. Find a data visualization that you would love to know how to make with Python\n",
    "  * Include the image in the next cell too and comment on why you like it."
   ]
  },
  {
   "cell_type": "markdown",
   "id": "60a3657f",
   "metadata": {},
   "source": [
    "(double-click here to edit)\n",
    "\n",
    "\n"
   ]
  },
  {
   "cell_type": "markdown",
   "id": "08d8e201",
   "metadata": {},
   "source": [
    "<div class=\"alert alert-info\">\n",
    "\n",
    "<b>Ideas for data to investigate</b>\n",
    "\n",
    "In the cell below:\n",
    "1. Write a bulleted list of 2 or 3 topics of interest to you.\n",
    "2. Do a quick search for datasets and/or articles related to those topics, and write a numbered list of links to your search results.\n",
    "    \n",
    "</div>\n",
    "\n"
   ]
  },
  {
   "cell_type": "markdown",
   "id": "81400531",
   "metadata": {},
   "source": [
    "(double-click here to edit)\n",
    "\n",
    "\n"
   ]
  },
  {
   "cell_type": "markdown",
   "id": "66a44ea0",
   "metadata": {},
   "source": [
    "<div class=\"alert alert-info\">\n",
    "\n",
    "<b>Ideas from curated datasets & project lists</b>\n",
    "\n",
    "Review the projects and datasets on the following two pages:\n",
    "* https://miriamposner.com/classes/dh201w21/final-project/datasets\n",
    "* https://archive.ics.uci.edu/datasets\n",
    "\n",
    "Make a table in the cell below that includes columns for (1) the name of any dataset of interest, (2) a brief description of the data and how you think coding might be useful to investigate the dataset, and (3) a hypertext link to the data.\n",
    "    \n",
    "There is no restriction on number of datasets to include, but please include at least two."
   ]
  },
  {
   "cell_type": "markdown",
   "id": "7bd91c33",
   "metadata": {},
   "source": [
    "(double-click here to edit)\n",
    "\n",
    "\n"
   ]
  },
  {
   "cell_type": "markdown",
   "id": "a8a6ab2a",
   "metadata": {},
   "source": [
    "<div class=\"alert alert-info\">\n",
    "\n",
    "<b>Submit</b>\n",
    "\n",
    "Submit this assignment by:\n",
    "1. Saving the file\n",
    "2. Downloading the file to your computer (File -> Download)\n",
    "3. Submitting the file through Canvas\n",
    "\n",
    "</div>"
   ]
  }
 ],
 "metadata": {
  "kernelspec": {
   "display_name": "Python 3 (ipykernel)",
   "language": "python",
   "name": "python3"
  },
  "language_info": {
   "codemirror_mode": {
    "name": "ipython",
    "version": 3
   },
   "file_extension": ".py",
   "mimetype": "text/x-python",
   "name": "python",
   "nbconvert_exporter": "python",
   "pygments_lexer": "ipython3",
   "version": "3.10.18"
  }
 },
 "nbformat": 4,
 "nbformat_minor": 5
}
